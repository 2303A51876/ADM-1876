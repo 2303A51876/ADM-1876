{
  "nbformat": 4,
  "nbformat_minor": 0,
  "metadata": {
    "colab": {
      "provenance": [],
      "authorship_tag": "ABX9TyOVD2pLLXx5o1VjUKKdjNkr",
      "include_colab_link": true
    },
    "kernelspec": {
      "name": "python3",
      "display_name": "Python 3"
    },
    "language_info": {
      "name": "python"
    }
  },
  "cells": [
    {
      "cell_type": "markdown",
      "metadata": {
        "id": "view-in-github",
        "colab_type": "text"
      },
      "source": [
        "<a href=\"https://colab.research.google.com/github/2303A51876/ADM-1876/blob/main/ADM%20ASS-7(1876).ipynb\" target=\"_parent\"><img src=\"https://colab.research.google.com/assets/colab-badge.svg\" alt=\"Open In Colab\"/></a>"
      ]
    },
    {
      "cell_type": "code",
      "execution_count": 30,
      "metadata": {
        "colab": {
          "base_uri": "https://localhost:8080/"
        },
        "id": "Ppcvnu1Eg2ka",
        "outputId": "4d48e231-fd58-45e8-c044-26b33080c6bb"
      },
      "outputs": [
        {
          "output_type": "stream",
          "name": "stdout",
          "text": [
            "Dataset Loaded Successfully!\n",
            "First 5 Rows:\n",
            "                             uniq_id            crawl_timestamp  \\\n",
            "0  c2d766ca982eca8304150849735ffef9  2016-03-25 22:59:23 +0000   \n",
            "1  7f7036a6d550aaa89d34c77bd39a5e48  2016-03-25 22:59:23 +0000   \n",
            "2  f449ec65dcbc041b6ae5e6a32717d01b  2016-03-25 22:59:23 +0000   \n",
            "3  0973b37acd0c664e3de26e97e5571454  2016-03-25 22:59:23 +0000   \n",
            "4  bc940ea42ee6bef5ac7cea3fb5cfbee7  2016-03-25 22:59:23 +0000   \n",
            "\n",
            "                                         product_url  \\\n",
            "0  http://www.flipkart.com/alisha-solid-women-s-c...   \n",
            "1  http://www.flipkart.com/fabhomedecor-fabric-do...   \n",
            "2  http://www.flipkart.com/aw-bellies/p/itmeh4grg...   \n",
            "3  http://www.flipkart.com/alisha-solid-women-s-c...   \n",
            "4  http://www.flipkart.com/sicons-all-purpose-arn...   \n",
            "\n",
            "                            product_name  \\\n",
            "0    Alisha Solid Women's Cycling Shorts   \n",
            "1    FabHomeDecor Fabric Double Sofa Bed   \n",
            "2                             AW Bellies   \n",
            "3    Alisha Solid Women's Cycling Shorts   \n",
            "4  Sicons All Purpose Arnica Dog Shampoo   \n",
            "\n",
            "                               product_category_tree               pid  \\\n",
            "0  [\"Clothing >> Women's Clothing >> Lingerie, Sl...  SRTEH2FF9KEDEFGF   \n",
            "1  [\"Furniture >> Living Room Furniture >> Sofa B...  SBEEH3QGU7MFYJFY   \n",
            "2  [\"Footwear >> Women's Footwear >> Ballerinas >...  SHOEH4GRSUBJGZXE   \n",
            "3  [\"Clothing >> Women's Clothing >> Lingerie, Sl...  SRTEH2F6HUZMQ6SJ   \n",
            "4  [\"Pet Supplies >> Grooming >> Skin & Coat Care...  PSOEH3ZYDMSYARJ5   \n",
            "\n",
            "   retail_price  discounted_price  \\\n",
            "0         999.0             379.0   \n",
            "1       32157.0           22646.0   \n",
            "2         999.0             499.0   \n",
            "3         699.0             267.0   \n",
            "4         220.0             210.0   \n",
            "\n",
            "                                               image  is_FK_Advantage_product  \\\n",
            "0  [\"http://img5a.flixcart.com/image/short/u/4/a/...                    False   \n",
            "1  [\"http://img6a.flixcart.com/image/sofa-bed/j/f...                    False   \n",
            "2  [\"http://img5a.flixcart.com/image/shoe/7/z/z/r...                    False   \n",
            "3  [\"http://img5a.flixcart.com/image/short/6/2/h/...                    False   \n",
            "4  [\"http://img5a.flixcart.com/image/pet-shampoo/...                    False   \n",
            "\n",
            "                                         description       product_rating  \\\n",
            "0  Key Features of Alisha Solid Women's Cycling S...  No rating available   \n",
            "1  FabHomeDecor Fabric Double Sofa Bed (Finish Co...  No rating available   \n",
            "2  Key Features of AW Bellies Sandals Wedges Heel...  No rating available   \n",
            "3  Key Features of Alisha Solid Women's Cycling S...  No rating available   \n",
            "4  Specifications of Sicons All Purpose Arnica Do...  No rating available   \n",
            "\n",
            "        overall_rating         brand  \\\n",
            "0  No rating available        Alisha   \n",
            "1  No rating available  FabHomeDecor   \n",
            "2  No rating available            AW   \n",
            "3  No rating available        Alisha   \n",
            "4  No rating available        Sicons   \n",
            "\n",
            "                              product_specifications  \n",
            "0  {\"product_specification\"=>[{\"key\"=>\"Number of ...  \n",
            "1  {\"product_specification\"=>[{\"key\"=>\"Installati...  \n",
            "2  {\"product_specification\"=>[{\"key\"=>\"Ideal For\"...  \n",
            "3  {\"product_specification\"=>[{\"key\"=>\"Number of ...  \n",
            "4  {\"product_specification\"=>[{\"key\"=>\"Pet Type\",...  \n",
            "Dataset Info:\n",
            "\n",
            "<class 'pandas.core.frame.DataFrame'>\n",
            "RangeIndex: 20000 entries, 0 to 19999\n",
            "Data columns (total 15 columns):\n",
            " #   Column                   Non-Null Count  Dtype  \n",
            "---  ------                   --------------  -----  \n",
            " 0   uniq_id                  20000 non-null  object \n",
            " 1   crawl_timestamp          20000 non-null  object \n",
            " 2   product_url              20000 non-null  object \n",
            " 3   product_name             20000 non-null  object \n",
            " 4   product_category_tree    20000 non-null  object \n",
            " 5   pid                      20000 non-null  object \n",
            " 6   retail_price             19922 non-null  float64\n",
            " 7   discounted_price         19922 non-null  float64\n",
            " 8   image                    19997 non-null  object \n",
            " 9   is_FK_Advantage_product  20000 non-null  bool   \n",
            " 10  description              19998 non-null  object \n",
            " 11  product_rating           20000 non-null  object \n",
            " 12  overall_rating           20000 non-null  object \n",
            " 13  brand                    14136 non-null  object \n",
            " 14  product_specifications   19986 non-null  object \n",
            "dtypes: bool(1), float64(2), object(12)\n",
            "memory usage: 2.2+ MB\n",
            "Missing Values:\n",
            " uniq_id                       0\n",
            "crawl_timestamp               0\n",
            "product_url                   0\n",
            "product_name                  0\n",
            "product_category_tree         0\n",
            "pid                           0\n",
            "retail_price                 78\n",
            "discounted_price             78\n",
            "image                         3\n",
            "is_FK_Advantage_product       0\n",
            "description                   2\n",
            "product_rating                0\n",
            "overall_rating                0\n",
            "brand                      5864\n",
            "product_specifications       14\n",
            "dtype: int64\n"
          ]
        }
      ],
      "source": [
        "#Load and Explore Data\n",
        "import pandas as pd\n",
        "import matplotlib.pyplot as plt\n",
        "import seaborn as sns\n",
        "from sklearn.preprocessing import LabelEncoder\n",
        "from sklearn.model_selection import train_test_split\n",
        "from sklearn.ensemble import RandomForestRegressor\n",
        "from sklearn.metrics import mean_squared_error\n",
        "#Load dataset\n",
        "data = pd.read_csv('/content/flipkart_com-ecommerce_sample.csv')\n",
        "print(\"Dataset Loaded Successfully!\")\n",
        "print(\"First 5 Rows:\\n\", data.head())\n",
        "print(\"Dataset Info:\\n\")\n",
        "data.info()\n",
        "print(\"Missing Values:\\n\", data.isnull().sum())"
      ]
    },
    {
      "cell_type": "code",
      "source": [
        "#Data Cleaning and Preprocessing\n",
        "# Dropping rows with missing values\n",
        "data.dropna(inplace=True)\n",
        "print(\"Dataset after cleaning:\")\n",
        "data.info()"
      ],
      "metadata": {
        "colab": {
          "base_uri": "https://localhost:8080/"
        },
        "id": "iQPn3Mx8h58_",
        "outputId": "53482e39-7a69-4875-c3b1-e00e1128d2f3"
      },
      "execution_count": 31,
      "outputs": [
        {
          "output_type": "stream",
          "name": "stdout",
          "text": [
            "Dataset after cleaning:\n",
            "<class 'pandas.core.frame.DataFrame'>\n",
            "Index: 14058 entries, 0 to 19999\n",
            "Data columns (total 15 columns):\n",
            " #   Column                   Non-Null Count  Dtype  \n",
            "---  ------                   --------------  -----  \n",
            " 0   uniq_id                  14058 non-null  object \n",
            " 1   crawl_timestamp          14058 non-null  object \n",
            " 2   product_url              14058 non-null  object \n",
            " 3   product_name             14058 non-null  object \n",
            " 4   product_category_tree    14058 non-null  object \n",
            " 5   pid                      14058 non-null  object \n",
            " 6   retail_price             14058 non-null  float64\n",
            " 7   discounted_price         14058 non-null  float64\n",
            " 8   image                    14058 non-null  object \n",
            " 9   is_FK_Advantage_product  14058 non-null  bool   \n",
            " 10  description              14058 non-null  object \n",
            " 11  product_rating           14058 non-null  object \n",
            " 12  overall_rating           14058 non-null  object \n",
            " 13  brand                    14058 non-null  object \n",
            " 14  product_specifications   14058 non-null  object \n",
            "dtypes: bool(1), float64(2), object(12)\n",
            "memory usage: 1.6+ MB\n"
          ]
        }
      ]
    },
    {
      "cell_type": "code",
      "source": [
        "#Descriptive Statistics and Visualization\n",
        "plt.figure(figsize=(10,5))\n",
        "sns.histplot(data['discounted_price'], bins=20, kde=True)\n",
        "plt.title(\"Distribution of Discounted Prices\")\n",
        "plt.xlabel(\"Discounted Price\")\n",
        "plt.ylabel(\"Frequency\")\n",
        "plt.show()"
      ],
      "metadata": {
        "colab": {
          "base_uri": "https://localhost:8080/",
          "height": 487
        },
        "id": "ZwWwfPV6h55U",
        "outputId": "8da85254-1ba3-4548-e519-b99de19b225b"
      },
      "execution_count": 22,
      "outputs": [
        {
          "output_type": "display_data",
          "data": {
            "text/plain": [
              "<Figure size 1000x500 with 1 Axes>"
            ],
            "image/png": "[encoded data removed]"
          },
          "metadata": {}
        }
      ]
    },
    {
      "cell_type": "code",
      "source": [
        "#Feature Selection and Encoding\n",
        "if 'product_category' in data.columns:\n",
        "    encoder = LabelEncoder()\n",
        "    data['product_category'] = encoder.fit_transform(data['product_category'].astype(str))\n",
        "    print(\"Encoded Product Categories:\", data['product_category'].unique())\n",
        "else:\n",
        "    print(\"Column 'product_category' not found in dataset\")"
      ],
      "metadata": {
        "colab": {
          "base_uri": "https://localhost:8080/"
        },
        "id": "q1kdelKuh53C",
        "outputId": "e19cc89c-77c0-4a49-bc4e-8ad50488eff6"
      },
      "execution_count": 23,
      "outputs": [
        {
          "output_type": "stream",
          "name": "stdout",
          "text": [
            "Column 'product_category' not found in dataset\n"
          ]
        }
      ]
    },
    {
      "cell_type": "code",
      "source": [
        "#Build a Machine Learning Model\n",
        "if 'discounted_price' in data.columns and 'retail_price' in data.columns:\n",
        "    features = ['discounted_price']\n",
        "    if 'product_category' in data.columns:\n",
        "        features.append('product_category')\n",
        "\n",
        "    X = data[features]\n",
        "    y = data['retail_price']\n",
        "\n",
        "    X_train, X_test, y_train, y_test = train_test_split(X, y, test_size=0.2, random_state=42)\n",
        "\n",
        "    model = RandomForestRegressor(n_estimators=100, random_state=42)\n",
        "    model.fit(X_train, y_train)\n",
        "\n",
        "    y_pred = model.predict(X_test)\n",
        "    print(\"Model Performance (MSE):\", mean_squared_error(y_test, y_pred))\n",
        "else:\n",
        "    print(\"Required columns for ML model not found in dataset\")"
      ],
      "metadata": {
        "colab": {
          "base_uri": "https://localhost:8080/"
        },
        "id": "TLrnlR2ch50a",
        "outputId": "18184778-18cb-402e-901f-36de2da9c5ef"
      },
      "execution_count": 24,
      "outputs": [
        {
          "output_type": "stream",
          "name": "stdout",
          "text": [
            "Model Performance (MSE): 4491087.871060781\n"
          ]
        }
      ]
    },
    {
      "cell_type": "code",
      "source": [
        "# Plot feature importance\n",
        "if 'discounted_price' in data.columns and 'retail_price' in data.columns:\n",
        "    feature_importance = model.feature_importances_\n",
        "    features = ['discounted_price']\n",
        "\n",
        "    if 'product_category' in data.columns:\n",
        "        features.append('product_category')\n",
        "\n",
        "    plt.figure(figsize=(8, 6))\n",
        "    plt.barh(features, feature_importance)\n",
        "    plt.title('Feature Importance')\n",
        "    plt.xlabel('Importance')\n",
        "    plt.ylabel('Features')\n",
        "    plt.show()\n"
      ],
      "metadata": {
        "colab": {
          "base_uri": "https://localhost:8080/",
          "height": 564
        },
        "id": "ZVDsyoLnnOmA",
        "outputId": "bc036f21-b5ea-4b1c-8ba7-88c1cc692e0d"
      },
      "execution_count": 32,
      "outputs": [
        {
          "output_type": "display_data",
          "data": {
            "text/plain": [
              "<Figure size 800x600 with 1 Axes>"
            ],
            "image/png": "[encoded data removed]"
          },
          "metadata": {}
        }
      ]
    },
    {
      "cell_type": "code",
      "source": [
        "# One-Hot Encoding for categorical variables if necessary\n",
        "if 'product_category' in data.columns:\n",
        "    data_encoded = pd.get_dummies(data, columns=['product_category'], drop_first=True)\n",
        "    print(\"One-Hot Encoded Data:\\n\", data_encoded.head())\n",
        "else:\n",
        "    print(\"Column 'product_category' not found in dataset\")"
      ],
      "metadata": {
        "colab": {
          "base_uri": "https://localhost:8080/"
        },
        "id": "Qyzp8OSGnSUx",
        "outputId": "90a95513-d08b-4dfc-86eb-10bba89ee96e"
      },
      "execution_count": 34,
      "outputs": [
        {
          "output_type": "stream",
          "name": "stdout",
          "text": [
            "Column 'product_category' not found in dataset\n"
          ]
        }
      ]
    },
    {
      "cell_type": "code",
      "source": [
        "from sklearn.preprocessing import StandardScaler\n",
        "# Standardizing numerical features\n",
        "scaler = StandardScaler()\n",
        "scaled_features = ['discounted_price', 'retail_price']\n",
        "data[scaled_features] = scaler.fit_transform(data[scaled_features])\n",
        "print(\"Scaled Data:\\n\", data[scaled_features].head())"
      ],
      "metadata": {
        "colab": {
          "base_uri": "https://localhost:8080/"
        },
        "id": "Rq7bhcVJncO7",
        "outputId": "9b7e57f7-05d9-4857-c8c4-1cb42b072869"
      },
      "execution_count": 35,
      "outputs": [
        {
          "output_type": "stream",
          "name": "stdout",
          "text": [
            "Scaled Data:\n",
            "    discounted_price  retail_price\n",
            "0         -0.293639     -0.284891\n",
            "1          2.910600      3.075605\n",
            "2         -0.276371     -0.284891\n",
            "3         -0.309756     -0.317247\n",
            "4         -0.317958     -0.368909\n"
          ]
        }
      ]
    },
    {
      "cell_type": "code",
      "source": [
        "from sklearn.model_selection import cross_val_score\n",
        "# Cross-validation for Random Forest model\n",
        "scores = cross_val_score(model, X, y, cv=5, scoring='neg_mean_squared_error')\n",
        "print(\"Cross-Validation Scores:\", scores)\n",
        "print(\"Average CV Score:\", scores.mean())"
      ],
      "metadata": {
        "colab": {
          "base_uri": "https://localhost:8080/"
        },
        "id": "EzGxHJ39ncGk",
        "outputId": "68bc2506-6cc2-43e8-88b5-feefdaacf32f"
      },
      "execution_count": 36,
      "outputs": [
        {
          "output_type": "stream",
          "name": "stdout",
          "text": [
            "Cross-Validation Scores: [-3288344.20798427  -720538.25752566 -6451937.6731945  -9630008.63677114\n",
            " -1280062.02574369]\n",
            "Average CV Score: -4274178.160243852\n"
          ]
        }
      ]
    },
    {
      "cell_type": "code",
      "source": [
        "# Creating a new feature 'price_ratio' as the ratio of discounted price to retail price\n",
        "data['price_ratio'] = data['discounted_price'] / data['retail_price']\n",
        "print(\"New Feature 'price_ratio' added:\\n\", data[['discounted_price', 'retail_price', 'price_ratio']].head())"
      ],
      "metadata": {
        "colab": {
          "base_uri": "https://localhost:8080/"
        },
        "id": "ydL7Rk3xn46A",
        "outputId": "fa2ee029-32b5-460f-a0e5-3e1b61af2ef3"
      },
      "execution_count": 37,
      "outputs": [
        {
          "output_type": "stream",
          "name": "stdout",
          "text": [
            "New Feature 'price_ratio' added:\n",
            "    discounted_price  retail_price  price_ratio\n",
            "0         -0.293639     -0.284891     1.030708\n",
            "1          2.910600      3.075605     0.946350\n",
            "2         -0.276371     -0.284891     0.970095\n",
            "3         -0.309756     -0.317247     0.976389\n",
            "4         -0.317958     -0.368909     0.861890\n"
          ]
        }
      ]
    },
    {
      "cell_type": "code",
      "source": [
        "# Imputing missing values with mean for numerical columns\n",
        "data['discounted_price'].fillna(data['discounted_price'].mean(), inplace=True)\n",
        "data['retail_price'].fillna(data['retail_price'].median(), inplace=True)\n",
        "print(\"Missing values after imputation:\\n\", data.isnull().sum())"
      ],
      "metadata": {
        "colab": {
          "base_uri": "https://localhost:8080/"
        },
        "id": "ekAJkdtKn_PT",
        "outputId": "4ec1c562-65d6-4ec5-924e-2f5efda26fc6"
      },
      "execution_count": 38,
      "outputs": [
        {
          "output_type": "stream",
          "name": "stdout",
          "text": [
            "Missing values after imputation:\n",
            " uniq_id                    0\n",
            "crawl_timestamp            0\n",
            "product_url                0\n",
            "product_name               0\n",
            "product_category_tree      0\n",
            "pid                        0\n",
            "retail_price               0\n",
            "discounted_price           0\n",
            "image                      0\n",
            "is_FK_Advantage_product    0\n",
            "description                0\n",
            "product_rating             0\n",
            "overall_rating             0\n",
            "brand                      0\n",
            "product_specifications     0\n",
            "price_ratio                0\n",
            "dtype: int64\n"
          ]
        },
        {
          "output_type": "stream",
          "name": "stderr",
          "text": [
            "<ipython-input-38-392dcb00f43c>:2: FutureWarning: A value is trying to be set on a copy of a DataFrame or Series through chained assignment using an inplace method.\n",
            "The behavior will change in pandas 3.0. This inplace method will never work because the intermediate object on which we are setting values always behaves as a copy.\n",
            "\n",
            "For example, when doing 'df[col].method(value, inplace=True)', try using 'df.method({col: value}, inplace=True)' or df[col] = df[col].method(value) instead, to perform the operation inplace on the original object.\n",
            "\n",
            "\n",
            "  data['discounted_price'].fillna(data['discounted_price'].mean(), inplace=True)\n",
            "<ipython-input-38-392dcb00f43c>:3: FutureWarning: A value is trying to be set on a copy of a DataFrame or Series through chained assignment using an inplace method.\n",
            "The behavior will change in pandas 3.0. This inplace method will never work because the intermediate object on which we are setting values always behaves as a copy.\n",
            "\n",
            "For example, when doing 'df[col].method(value, inplace=True)', try using 'df.method({col: value}, inplace=True)' or df[col] = df[col].method(value) instead, to perform the operation inplace on the original object.\n",
            "\n",
            "\n",
            "  data['retail_price'].fillna(data['retail_price'].median(), inplace=True)\n"
          ]
        }
      ]
    },
    {
      "cell_type": "code",
      "source": [
        "from scipy.stats import zscore\n",
        "# Identify outliers using Z-Score (threshold set to 3)\n",
        "data['z_score'] = zscore(data['discounted_price'])\n",
        "outliers = data[data['z_score'].abs() > 3]\n",
        "print(\"Outliers Based on Z-Score:\\n\", outliers[['discounted_price', 'z_score']])"
      ],
      "metadata": {
        "colab": {
          "base_uri": "https://localhost:8080/"
        },
        "id": "lB7mxYnGn_KU",
        "outputId": "f05f46a2-adfc-4da1-9b31-335e6a9b0479"
      },
      "execution_count": 39,
      "outputs": [
        {
          "output_type": "stream",
          "name": "stdout",
          "text": [
            "Outliers Based on Z-Score:\n",
            "        discounted_price   z_score\n",
            "375            4.576252  4.576252\n",
            "394            4.396663  4.396663\n",
            "395            3.877613  3.877613\n",
            "411            4.696409  4.696409\n",
            "412            3.569234  3.569234\n",
            "...                 ...       ...\n",
            "18596          4.981045  4.981045\n",
            "18650          3.249198  3.249198\n",
            "18662          3.249198  3.249198\n",
            "18670          3.249198  3.249198\n",
            "19439          3.248623  3.248623\n",
            "\n",
            "[558 rows x 2 columns]\n"
          ]
        }
      ]
    }
  ]
}